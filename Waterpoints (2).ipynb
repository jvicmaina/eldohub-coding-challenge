{
  "nbformat": 4,
  "nbformat_minor": 0,
  "metadata": {
    "colab": {
      "name": "Waterpoints.ipynb",
      "provenance": [],
      "collapsed_sections": []
    },
    "kernelspec": {
      "display_name": "Python 3",
      "language": "python",
      "name": "python3"
    },
    "language_info": {
      "codemirror_mode": {
        "name": "ipython",
        "version": 3
      },
      "file_extension": ".py",
      "mimetype": "text/x-python",
      "name": "python",
      "nbconvert_exporter": "python",
      "pygments_lexer": "ipython3",
      "version": "3.8.5"
    }
  },
  "cells": [
    {
      "cell_type": "code",
      "metadata": {
        "id": "R6lo4NrpEnjj"
      },
      "source": [
        "# import libraries\n",
        "import urllib\n",
        "from urllib.request import urlopen\n",
        "import json\n",
        "import pandas as pd\n",
        "import numpy as np\n"
      ],
      "execution_count": 12,
      "outputs": []
    },
    {
      "cell_type": "code",
      "metadata": {
        "id": "iiyZaegN6ezz",
        "colab": {
          "base_uri": "https://localhost:8080/"
        },
        "outputId": "98497c3d-acea-42cf-915c-b37912c26705"
      },
      "source": [
        "# url input function\n",
        "# this is the url for simplicity : https://raw.githubusercontent.com/onaio/ona-tech/master/data/water_points.json\n",
        "url = input(\"Enter the data URL: \")\n",
        "print('Data URL =',url)\n",
        "\n",
        "# Storing the data\n",
        "response = urlopen(url)\n",
        "\n",
        "\n",
        "# storing the JSON response \n",
        "# from url in data\n",
        "data_json = json.loads(response.read())\n",
        "\n",
        "#create a pandas dataframe\n",
        "df = pd.DataFrame (data_json)\n",
        "df.head(5)\n",
        "df.shape\n",
        "# create a dataframe with only the necessary columns \n"
      ],
      "execution_count": 14,
      "outputs": [
        {
          "output_type": "stream",
          "name": "stdout",
          "text": [
            "Enter the data URL: https://raw.githubusercontent.com/onaio/ona-tech/master/data/water_points.json\n",
            "Data URL = https://raw.githubusercontent.com/onaio/ona-tech/master/data/water_points.json\n"
          ]
        },
        {
          "output_type": "execute_result",
          "data": {
            "text/plain": [
              "(712, 48)"
            ]
          },
          "metadata": {},
          "execution_count": 14
        }
      ]
    },
    {
      "cell_type": "code",
      "metadata": {
        "colab": {
          "base_uri": "https://localhost:8080/"
        },
        "id": "uafTwsrSQmqS",
        "outputId": "6d810682-1ec5-4855-f082-4cef109ce8d9"
      },
      "source": [
        "#checking df information whether there are empty columns and also the datatypes available in the dataset\n",
        "df.info()"
      ],
      "execution_count": 15,
      "outputs": [
        {
          "output_type": "stream",
          "name": "stdout",
          "text": [
            "<class 'pandas.core.frame.DataFrame'>\n",
            "RangeIndex: 712 entries, 0 to 711\n",
            "Data columns (total 48 columns):\n",
            " #   Column                       Non-Null Count  Dtype \n",
            "---  ------                       --------------  ----- \n",
            " 0   water_pay                    712 non-null    object\n",
            " 1   respondent                   712 non-null    object\n",
            " 2   research_asst_name           712 non-null    object\n",
            " 3   water_used_season            712 non-null    object\n",
            " 4   _bamboo_dataset_id           712 non-null    object\n",
            " 5   _deleted_at                  0 non-null      object\n",
            " 6   water_point_condition        712 non-null    object\n",
            " 7   _xform_id_string             712 non-null    object\n",
            " 8   other_point_1km              712 non-null    object\n",
            " 9   _attachments                 712 non-null    object\n",
            " 10  communities_villages         712 non-null    object\n",
            " 11  end                          712 non-null    object\n",
            " 12  animal_number                528 non-null    object\n",
            " 13  water_point_id               712 non-null    object\n",
            " 14  start                        712 non-null    object\n",
            " 15  water_connected              712 non-null    object\n",
            " 16  water_manager_name           708 non-null    object\n",
            " 17  _status                      712 non-null    object\n",
            " 18  enum_id_1                    712 non-null    object\n",
            " 19  water_lift_mechanism         712 non-null    object\n",
            " 20  districts_divisions          712 non-null    object\n",
            " 21  _uuid                        712 non-null    object\n",
            " 22  grid                         712 non-null    object\n",
            " 23  date                         712 non-null    object\n",
            " 24  formhub/uuid                 712 non-null    object\n",
            " 25  road_available               712 non-null    object\n",
            " 26  water_functioning            712 non-null    object\n",
            " 27  _submission_time             712 non-null    object\n",
            " 28  signal                       712 non-null    object\n",
            " 29  water_source_type            712 non-null    object\n",
            " 30  _geolocation                 712 non-null    object\n",
            " 31  water_point_image            712 non-null    object\n",
            " 32  water_point_geocode          709 non-null    object\n",
            " 33  deviceid                     712 non-null    object\n",
            " 34  locations_wards              712 non-null    object\n",
            " 35  water_manager                712 non-null    object\n",
            " 36  water_developer              712 non-null    object\n",
            " 37  _id                          712 non-null    int64 \n",
            " 38  animal_point                 712 non-null    object\n",
            " 39  water_mechanism_plate        649 non-null    object\n",
            " 40  water_lift_mechanism_type    649 non-null    object\n",
            " 41  road_type                    334 non-null    object\n",
            " 42  water_mechanism_plate_units  43 non-null     object\n",
            " 43  water_mechanism_plate_no     43 non-null     object\n",
            " 44  water_not_functioning        87 non-null     object\n",
            " 45  water_source_type_other      3 non-null      object\n",
            " 46  simserial                    5 non-null      object\n",
            " 47  subscriberid                 5 non-null      object\n",
            "dtypes: int64(1), object(47)\n",
            "memory usage: 267.1+ KB\n"
          ]
        }
      ]
    },
    {
      "cell_type": "code",
      "metadata": {
        "id": "7P92RSgyQmqT",
        "colab": {
          "base_uri": "https://localhost:8080/",
          "height": 419
        },
        "outputId": "faed8d43-63ad-48e7-ce7f-3f0eecf65db0"
      },
      "source": [
        "#selecting a subset from the dataframe (df) where we only need column 10, column 26\n",
        "relevant_columns = df[['communities_villages', 'water_functioning']]\n",
        "#create a new dataframe for the data subsets i.e only the relevant columns\n",
        "#now we are only going to work with this dataframe, we called it relevant_columnsDF\n",
        "relevant_columnsDf= pd.DataFrame (relevant_columns)\n",
        "#Converting the unordered categorical 'Water functioning' , \n",
        "#converted the (if functioning is 'yes' replaced it with '1' and if if functioning is 'no' replaced it with '0')\n",
        "#this is to further check for any data disparencies\n",
        "\n",
        "relevant_columnsDf.water_functioning =relevant_columnsDf.water_functioning.map({'yes':'1','no':'0'})\n",
        "\n",
        "relevant_columnsDf\n"
      ],
      "execution_count": 16,
      "outputs": [
        {
          "output_type": "execute_result",
          "data": {
            "text/html": [
              "<div>\n",
              "<style scoped>\n",
              "    .dataframe tbody tr th:only-of-type {\n",
              "        vertical-align: middle;\n",
              "    }\n",
              "\n",
              "    .dataframe tbody tr th {\n",
              "        vertical-align: top;\n",
              "    }\n",
              "\n",
              "    .dataframe thead th {\n",
              "        text-align: right;\n",
              "    }\n",
              "</style>\n",
              "<table border=\"1\" class=\"dataframe\">\n",
              "  <thead>\n",
              "    <tr style=\"text-align: right;\">\n",
              "      <th></th>\n",
              "      <th>communities_villages</th>\n",
              "      <th>water_functioning</th>\n",
              "    </tr>\n",
              "  </thead>\n",
              "  <tbody>\n",
              "    <tr>\n",
              "      <th>0</th>\n",
              "      <td>Gumaryili</td>\n",
              "      <td>1</td>\n",
              "    </tr>\n",
              "    <tr>\n",
              "      <th>1</th>\n",
              "      <td>Selinvoya</td>\n",
              "      <td>1</td>\n",
              "    </tr>\n",
              "    <tr>\n",
              "      <th>2</th>\n",
              "      <td>Selinvoya</td>\n",
              "      <td>1</td>\n",
              "    </tr>\n",
              "    <tr>\n",
              "      <th>3</th>\n",
              "      <td>Selinvoya</td>\n",
              "      <td>1</td>\n",
              "    </tr>\n",
              "    <tr>\n",
              "      <th>4</th>\n",
              "      <td>Selinvoya</td>\n",
              "      <td>1</td>\n",
              "    </tr>\n",
              "    <tr>\n",
              "      <th>...</th>\n",
              "      <td>...</td>\n",
              "      <td>...</td>\n",
              "    </tr>\n",
              "    <tr>\n",
              "      <th>707</th>\n",
              "      <td>Suik</td>\n",
              "      <td>1</td>\n",
              "    </tr>\n",
              "    <tr>\n",
              "      <th>708</th>\n",
              "      <td>Vundema</td>\n",
              "      <td>1</td>\n",
              "    </tr>\n",
              "    <tr>\n",
              "      <th>709</th>\n",
              "      <td>Vundema</td>\n",
              "      <td>1</td>\n",
              "    </tr>\n",
              "    <tr>\n",
              "      <th>710</th>\n",
              "      <td>Jiniensa</td>\n",
              "      <td>1</td>\n",
              "    </tr>\n",
              "    <tr>\n",
              "      <th>711</th>\n",
              "      <td>Jagsa</td>\n",
              "      <td>1</td>\n",
              "    </tr>\n",
              "  </tbody>\n",
              "</table>\n",
              "<p>712 rows × 2 columns</p>\n",
              "</div>"
            ],
            "text/plain": [
              "    communities_villages water_functioning\n",
              "0              Gumaryili                 1\n",
              "1              Selinvoya                 1\n",
              "2              Selinvoya                 1\n",
              "3              Selinvoya                 1\n",
              "4              Selinvoya                 1\n",
              "..                   ...               ...\n",
              "707                 Suik                 1\n",
              "708              Vundema                 1\n",
              "709              Vundema                 1\n",
              "710             Jiniensa                 1\n",
              "711                Jagsa                 1\n",
              "\n",
              "[712 rows x 2 columns]"
            ]
          },
          "metadata": {},
          "execution_count": 16
        }
      ]
    },
    {
      "cell_type": "code",
      "metadata": {
        "colab": {
          "base_uri": "https://localhost:8080/"
        },
        "id": "HUICnI7pQmqe",
        "outputId": "176e7638-0189-4370-e5c5-5f815b4a541f"
      },
      "source": [
        "#checking if our water_functioning column has any empty or irrelevant /dirty data.\n",
        "#converting data to categorical helped us identify that there are two elements that are not of type 1 or 0 \n",
        "relevant_columnsDf['water_functioning' ].value_counts(dropna=False )\n"
      ],
      "execution_count": 17,
      "outputs": [
        {
          "output_type": "execute_result",
          "data": {
            "text/plain": [
              "1      623\n",
              "0       87\n",
              "NaN      2\n",
              "Name: water_functioning, dtype: int64"
            ]
          },
          "metadata": {},
          "execution_count": 17
        }
      ]
    },
    {
      "cell_type": "code",
      "metadata": {
        "id": "HV8tQHq-Qmqg"
      },
      "source": [
        "# if water functioning contains a value which is neither 'yes' nor 'no' it eliminates it.\n",
        "#we eliminated the NAN \n",
        "relevant_columnsDf.dropna(subset = [\"water_functioning\"], inplace=True)\n"
      ],
      "execution_count": 18,
      "outputs": []
    },
    {
      "cell_type": "code",
      "metadata": {
        "colab": {
          "base_uri": "https://localhost:8080/"
        },
        "id": "e534_EKXp5Pk",
        "outputId": "1088af3b-fac5-4b49-e15e-37fd4251766c"
      },
      "source": [
        "#clean data\n",
        "relevant_columnsDf['water_functioning' ].value_counts(dropna=False )"
      ],
      "execution_count": 19,
      "outputs": [
        {
          "output_type": "execute_result",
          "data": {
            "text/plain": [
              "1    623\n",
              "0     87\n",
              "Name: water_functioning, dtype: int64"
            ]
          },
          "metadata": {},
          "execution_count": 19
        }
      ]
    },
    {
      "cell_type": "code",
      "metadata": {
        "colab": {
          "base_uri": "https://localhost:8080/"
        },
        "id": "xRkpRAmVnpky",
        "outputId": "dd803c81-4c5a-45dc-acba-1099c129cb78"
      },
      "source": [
        "relevant_columnsDf['communities_villages' ].value_counts(dropna=False )"
      ],
      "execution_count": null,
      "outputs": [
        {
          "data": {
            "text/plain": [
              "Kpatarigu    51\n",
              "Jagsa        38\n",
              "Nayoku       35\n",
              "Guuta        32\n",
              "Nabulugu     31\n",
              "             ..\n",
              "Kalaasa       1\n",
              "Gumaryili     1\n",
              "Garigu        1\n",
              "Jiniensa      1\n",
              "Suik          1\n",
              "Name: communities_villages, Length: 65, dtype: int64"
            ]
          },
          "execution_count": 116,
          "metadata": {},
          "output_type": "execute_result"
        }
      ]
    },
    {
      "cell_type": "code",
      "metadata": {
        "colab": {
          "base_uri": "https://localhost:8080/"
        },
        "id": "aNr4niiun_xl",
        "outputId": "a16acb2f-67c3-4b24-9af0-93464a48af8b"
      },
      "source": [
        "relevant_columnsDf.shape"
      ],
      "execution_count": null,
      "outputs": [
        {
          "data": {
            "text/plain": [
              "(710, 2)"
            ]
          },
          "execution_count": 117,
          "metadata": {},
          "output_type": "execute_result"
        }
      ]
    },
    {
      "cell_type": "code",
      "metadata": {
        "colab": {
          "base_uri": "https://localhost:8080/",
          "height": 204
        },
        "id": "bEqDQsTOorJQ",
        "outputId": "c1b55c2b-03bb-4023-9fcf-95bf2ecf0d3b"
      },
      "source": [
        "relevant_columnsDf.head(5)"
      ],
      "execution_count": null,
      "outputs": [
        {
          "data": {
            "text/html": [
              "<div>\n",
              "<style scoped>\n",
              "    .dataframe tbody tr th:only-of-type {\n",
              "        vertical-align: middle;\n",
              "    }\n",
              "\n",
              "    .dataframe tbody tr th {\n",
              "        vertical-align: top;\n",
              "    }\n",
              "\n",
              "    .dataframe thead th {\n",
              "        text-align: right;\n",
              "    }\n",
              "</style>\n",
              "<table border=\"1\" class=\"dataframe\">\n",
              "  <thead>\n",
              "    <tr style=\"text-align: right;\">\n",
              "      <th></th>\n",
              "      <th>communities_villages</th>\n",
              "      <th>water_functioning</th>\n",
              "    </tr>\n",
              "  </thead>\n",
              "  <tbody>\n",
              "    <tr>\n",
              "      <th>0</th>\n",
              "      <td>Gumaryili</td>\n",
              "      <td>1</td>\n",
              "    </tr>\n",
              "    <tr>\n",
              "      <th>1</th>\n",
              "      <td>Selinvoya</td>\n",
              "      <td>1</td>\n",
              "    </tr>\n",
              "    <tr>\n",
              "      <th>2</th>\n",
              "      <td>Selinvoya</td>\n",
              "      <td>1</td>\n",
              "    </tr>\n",
              "    <tr>\n",
              "      <th>3</th>\n",
              "      <td>Selinvoya</td>\n",
              "      <td>1</td>\n",
              "    </tr>\n",
              "    <tr>\n",
              "      <th>4</th>\n",
              "      <td>Selinvoya</td>\n",
              "      <td>1</td>\n",
              "    </tr>\n",
              "  </tbody>\n",
              "</table>\n",
              "</div>"
            ],
            "text/plain": [
              "  communities_villages water_functioning\n",
              "0            Gumaryili                 1\n",
              "1            Selinvoya                 1\n",
              "2            Selinvoya                 1\n",
              "3            Selinvoya                 1\n",
              "4            Selinvoya                 1"
            ]
          },
          "execution_count": 118,
          "metadata": {},
          "output_type": "execute_result"
        }
      ]
    },
    {
      "cell_type": "code",
      "metadata": {
        "colab": {
          "base_uri": "https://localhost:8080/"
        },
        "id": "Yvu7dHa7ocyJ",
        "outputId": "025673e2-1478-4dce-ac60-d2b81339b6f7"
      },
      "source": [
        "relevant_columnsDf.info"
      ],
      "execution_count": null,
      "outputs": [
        {
          "data": {
            "text/plain": [
              "<bound method DataFrame.info of     communities_villages water_functioning\n",
              "0              Gumaryili                 1\n",
              "1              Selinvoya                 1\n",
              "2              Selinvoya                 1\n",
              "3              Selinvoya                 1\n",
              "4              Selinvoya                 1\n",
              "..                   ...               ...\n",
              "707                 Suik                 1\n",
              "708              Vundema                 1\n",
              "709              Vundema                 1\n",
              "710             Jiniensa                 1\n",
              "711                Jagsa                 1\n",
              "\n",
              "[710 rows x 2 columns]>"
            ]
          },
          "execution_count": 119,
          "metadata": {},
          "output_type": "execute_result"
        }
      ]
    },
    {
      "cell_type": "code",
      "metadata": {
        "colab": {
          "base_uri": "https://localhost:8080/"
        },
        "id": "0jJd6juXQmqX",
        "outputId": "6f02431e-947a-4653-e8e3-3aa82f5c22bf"
      },
      "source": [
        "#checking if the columns are empty or not.\n",
        "relevant_columnsDf.info()"
      ],
      "execution_count": null,
      "outputs": [
        {
          "name": "stdout",
          "output_type": "stream",
          "text": [
            "<class 'pandas.core.frame.DataFrame'>\n",
            "Int64Index: 710 entries, 0 to 711\n",
            "Data columns (total 2 columns):\n",
            " #   Column                Non-Null Count  Dtype \n",
            "---  ------                --------------  ----- \n",
            " 0   communities_villages  710 non-null    object\n",
            " 1   water_functioning     710 non-null    object\n",
            "dtypes: object(2)\n",
            "memory usage: 16.6+ KB\n"
          ]
        }
      ]
    },
    {
      "cell_type": "code",
      "metadata": {
        "id": "DCD-RIYLQmqY"
      },
      "source": [
        "#checking for specific information from this two columns \n",
        "#relevant_columnsDf['water_functioning']"
      ],
      "execution_count": null,
      "outputs": []
    },
    {
      "cell_type": "code",
      "metadata": {
        "colab": {
          "base_uri": "https://localhost:8080/"
        },
        "id": "aXl9PWR_Qmqa",
        "outputId": "baf06eb5-537b-42a6-e367-a07db92fe99a"
      },
      "source": [
        "relevant_columnsDf['communities_villages']"
      ],
      "execution_count": null,
      "outputs": [
        {
          "data": {
            "text/plain": [
              "0      Gumaryili\n",
              "1      Selinvoya\n",
              "2      Selinvoya\n",
              "3      Selinvoya\n",
              "4      Selinvoya\n",
              "         ...    \n",
              "707         Suik\n",
              "708      Vundema\n",
              "709      Vundema\n",
              "710     Jiniensa\n",
              "711        Jagsa\n",
              "Name: communities_villages, Length: 710, dtype: object"
            ]
          },
          "execution_count": 122,
          "metadata": {},
          "output_type": "execute_result"
        }
      ]
    },
    {
      "cell_type": "code",
      "metadata": {
        "colab": {
          "base_uri": "https://localhost:8080/",
          "height": 351
        },
        "id": "rFtdWsQCQmqd",
        "outputId": "0803be69-922f-45ad-8bdb-b180228d4262"
      },
      "source": [
        "#visualize the waterpoints which are working and those which are not working.\n",
        "import seaborn as sns\n",
        "sns.countplot(relevant_columnsDf['water_functioning'])"
      ],
      "execution_count": null,
      "outputs": [
        {
          "name": "stderr",
          "output_type": "stream",
          "text": [
            "/usr/local/lib/python3.7/dist-packages/seaborn/_decorators.py:43: FutureWarning: Pass the following variable as a keyword arg: x. From version 0.12, the only valid positional argument will be `data`, and passing other arguments without an explicit keyword will result in an error or misinterpretation.\n",
            "  FutureWarning\n"
          ]
        },
        {
          "data": {
            "text/plain": [
              "<matplotlib.axes._subplots.AxesSubplot at 0x7fac62dd27d0>"
            ]
          },
          "execution_count": 123,
          "metadata": {},
          "output_type": "execute_result"
        },
        {
          "data": {
            "image/png": "[encoded data removed]",
            "text/plain": [
              "<Figure size 432x288 with 1 Axes>"
            ]
          },
          "metadata": {},
          "output_type": "display_data"
        }
      ]
    },
    {
      "cell_type": "code",
      "metadata": {
        "colab": {
          "base_uri": "https://localhost:8080/"
        },
        "id": "DdU3yY9_Qmqf",
        "outputId": "cde22c40-b434-4556-d63d-d2de0bacfd7e"
      },
      "source": [
        "#the output of this cell could further help us deduce that there are 65 communities_villages\n",
        "relevant_columnsDf['communities_villages' ].value_counts(dropna=False )"
      ],
      "execution_count": null,
      "outputs": [
        {
          "data": {
            "text/plain": [
              "Kpatarigu    51\n",
              "Jagsa        38\n",
              "Nayoku       35\n",
              "Guuta        32\n",
              "Nabulugu     31\n",
              "             ..\n",
              "Kalaasa       1\n",
              "Gumaryili     1\n",
              "Garigu        1\n",
              "Jiniensa      1\n",
              "Suik          1\n",
              "Name: communities_villages, Length: 65, dtype: int64"
            ]
          },
          "execution_count": 124,
          "metadata": {},
          "output_type": "execute_result"
        }
      ]
    },
    {
      "cell_type": "code",
      "metadata": {
        "colab": {
          "base_uri": "https://localhost:8080/"
        },
        "id": "NpB_NpPPQmqh",
        "outputId": "9f5e1eee-066e-4a14-b95c-46371d2e2147"
      },
      "source": [
        "#Checking for the total functioning and unfuctioning data points where 1 is yes and 0 is no\n",
        "#the output shows that there are 623 working points and 87 points which are not working.\n",
        "relevant_columnsDf['water_functioning' ].value_counts(dropna=False )"
      ],
      "execution_count": 20,
      "outputs": [
        {
          "output_type": "execute_result",
          "data": {
            "text/plain": [
              "1    623\n",
              "0     87\n",
              "Name: water_functioning, dtype: int64"
            ]
          },
          "metadata": {},
          "execution_count": 20
        }
      ]
    },
    {
      "cell_type": "code",
      "metadata": {
        "colab": {
          "base_uri": "https://localhost:8080/"
        },
        "id": "MEImlURBQmqi",
        "outputId": "6e34c02b-113e-44ef-d7f5-0fc6dc9c9367"
      },
      "source": [
        "#look at all the values in each column and get a count using (for val which loops through the entire dataframe)\n",
        "#the number of occurences per village whichmeans the number of water points per village either functional or unfunctional.\n",
        "#the number of either fuctioning or unfuctioning water points \n",
        "for val in relevant_columnsDf:\n",
        "    print(relevant_columnsDf[val].value_counts())\n",
        "print()"
      ],
      "execution_count": 21,
      "outputs": [
        {
          "output_type": "stream",
          "name": "stdout",
          "text": [
            "Kpatarigu    51\n",
            "Jagsa        38\n",
            "Nayoku       35\n",
            "Guuta        32\n",
            "Nabulugu     31\n",
            "             ..\n",
            "Garigu        1\n",
            "Gumaryili     1\n",
            "Kalaasa       1\n",
            "Suik          1\n",
            "Jiniensa      1\n",
            "Name: communities_villages, Length: 65, dtype: int64\n",
            "1    623\n",
            "0     87\n",
            "Name: water_functioning, dtype: int64\n",
            "\n"
          ]
        }
      ]
    },
    {
      "cell_type": "code",
      "metadata": {
        "colab": {
          "base_uri": "https://localhost:8080/"
        },
        "id": "Dy4rDA5uQmqj",
        "outputId": "903ecefb-b118-41da-858e-ca4a7bc1675e"
      },
      "source": [
        "#this is another approach with the same answers.\n",
        "relevant_columnsDf['communities_villages' ].value_counts(dropna=False )"
      ],
      "execution_count": 22,
      "outputs": [
        {
          "output_type": "execute_result",
          "data": {
            "text/plain": [
              "Kpatarigu    51\n",
              "Jagsa        38\n",
              "Nayoku       35\n",
              "Guuta        32\n",
              "Nabulugu     31\n",
              "             ..\n",
              "Garigu        1\n",
              "Gumaryili     1\n",
              "Kalaasa       1\n",
              "Suik          1\n",
              "Jiniensa      1\n",
              "Name: communities_villages, Length: 65, dtype: int64"
            ]
          },
          "metadata": {},
          "execution_count": 22
        }
      ]
    },
    {
      "cell_type": "code",
      "metadata": {
        "colab": {
          "base_uri": "https://localhost:8080/"
        },
        "id": "H6c1rCJ_UItU",
        "outputId": "6142198a-f432-472c-f13b-d09ab483f89f"
      },
      "source": [
        "relevant_columnsDf.isnull().sum()"
      ],
      "execution_count": 23,
      "outputs": [
        {
          "output_type": "execute_result",
          "data": {
            "text/plain": [
              "communities_villages    0\n",
              "water_functioning       0\n",
              "dtype: int64"
            ]
          },
          "metadata": {},
          "execution_count": 23
        }
      ]
    },
    {
      "cell_type": "code",
      "metadata": {
        "colab": {
          "base_uri": "https://localhost:8080/"
        },
        "id": "9sleGTistqhn",
        "outputId": "3b460704-6d5e-4af2-8a5c-989330c7a6f1"
      },
      "source": [
        "# selecting rows based on condition , this codes selects all rows with a value zero which represents \"no\" meaning not fuctional.\n",
        "#Then stores them in a NotFunctional dataframe.\n",
        "notFunctionalWaterPointsDf = relevant_columnsDf.loc[relevant_columnsDf['water_functioning'] == '0'] \n",
        "    \n",
        "print('\\nResult dataframe for water points that are not functioning :\\n', \n",
        "  notFunctionalWaterPointsDf    )\n"
      ],
      "execution_count": 24,
      "outputs": [
        {
          "output_type": "stream",
          "name": "stdout",
          "text": [
            "\n",
            "Result dataframe for water points that are not functioning :\n",
            "     communities_villages water_functioning\n",
            "8              Selinvoya                 0\n",
            "15              Nabulugu                 0\n",
            "31              Nabulugu                 0\n",
            "34              Nabulugu                 0\n",
            "37              Nabulugu                 0\n",
            "..                   ...               ...\n",
            "627                Jagsa                 0\n",
            "633                Jagsa                 0\n",
            "646                Jagsa                 0\n",
            "648                Jagsa                 0\n",
            "649                Jagsa                 0\n",
            "\n",
            "[87 rows x 2 columns]\n"
          ]
        }
      ]
    },
    {
      "cell_type": "code",
      "metadata": {
        "colab": {
          "base_uri": "https://localhost:8080/",
          "height": 419
        },
        "id": "XQqD82EutxIi",
        "outputId": "06b078ec-bc6b-4506-90a1-2566d8c01597"
      },
      "source": [
        " notFunctionalWaterPointsDf"
      ],
      "execution_count": 25,
      "outputs": [
        {
          "output_type": "execute_result",
          "data": {
            "text/html": [
              "<div>\n",
              "<style scoped>\n",
              "    .dataframe tbody tr th:only-of-type {\n",
              "        vertical-align: middle;\n",
              "    }\n",
              "\n",
              "    .dataframe tbody tr th {\n",
              "        vertical-align: top;\n",
              "    }\n",
              "\n",
              "    .dataframe thead th {\n",
              "        text-align: right;\n",
              "    }\n",
              "</style>\n",
              "<table border=\"1\" class=\"dataframe\">\n",
              "  <thead>\n",
              "    <tr style=\"text-align: right;\">\n",
              "      <th></th>\n",
              "      <th>communities_villages</th>\n",
              "      <th>water_functioning</th>\n",
              "    </tr>\n",
              "  </thead>\n",
              "  <tbody>\n",
              "    <tr>\n",
              "      <th>8</th>\n",
              "      <td>Selinvoya</td>\n",
              "      <td>0</td>\n",
              "    </tr>\n",
              "    <tr>\n",
              "      <th>15</th>\n",
              "      <td>Nabulugu</td>\n",
              "      <td>0</td>\n",
              "    </tr>\n",
              "    <tr>\n",
              "      <th>31</th>\n",
              "      <td>Nabulugu</td>\n",
              "      <td>0</td>\n",
              "    </tr>\n",
              "    <tr>\n",
              "      <th>34</th>\n",
              "      <td>Nabulugu</td>\n",
              "      <td>0</td>\n",
              "    </tr>\n",
              "    <tr>\n",
              "      <th>37</th>\n",
              "      <td>Nabulugu</td>\n",
              "      <td>0</td>\n",
              "    </tr>\n",
              "    <tr>\n",
              "      <th>...</th>\n",
              "      <td>...</td>\n",
              "      <td>...</td>\n",
              "    </tr>\n",
              "    <tr>\n",
              "      <th>627</th>\n",
              "      <td>Jagsa</td>\n",
              "      <td>0</td>\n",
              "    </tr>\n",
              "    <tr>\n",
              "      <th>633</th>\n",
              "      <td>Jagsa</td>\n",
              "      <td>0</td>\n",
              "    </tr>\n",
              "    <tr>\n",
              "      <th>646</th>\n",
              "      <td>Jagsa</td>\n",
              "      <td>0</td>\n",
              "    </tr>\n",
              "    <tr>\n",
              "      <th>648</th>\n",
              "      <td>Jagsa</td>\n",
              "      <td>0</td>\n",
              "    </tr>\n",
              "    <tr>\n",
              "      <th>649</th>\n",
              "      <td>Jagsa</td>\n",
              "      <td>0</td>\n",
              "    </tr>\n",
              "  </tbody>\n",
              "</table>\n",
              "<p>87 rows × 2 columns</p>\n",
              "</div>"
            ],
            "text/plain": [
              "    communities_villages water_functioning\n",
              "8              Selinvoya                 0\n",
              "15              Nabulugu                 0\n",
              "31              Nabulugu                 0\n",
              "34              Nabulugu                 0\n",
              "37              Nabulugu                 0\n",
              "..                   ...               ...\n",
              "627                Jagsa                 0\n",
              "633                Jagsa                 0\n",
              "646                Jagsa                 0\n",
              "648                Jagsa                 0\n",
              "649                Jagsa                 0\n",
              "\n",
              "[87 rows x 2 columns]"
            ]
          },
          "metadata": {},
          "execution_count": 25
        }
      ]
    },
    {
      "cell_type": "code",
      "metadata": {
        "colab": {
          "base_uri": "https://localhost:8080/"
        },
        "id": "6H_JCj0xqnP9",
        "outputId": "cb253128-2318-4fa5-e2d5-3860bdce9056"
      },
      "source": [
        "percentagesDf= notFunctionalWaterPointsDf['communities_villages'].value_counts(normalize=True)*100\n",
        "print ('percentage of broken water points in rank from highest to lowest is : \\n' ,  percentagesDf)\n",
        "\n"
      ],
      "execution_count": 31,
      "outputs": [
        {
          "output_type": "stream",
          "name": "stdout",
          "text": [
            "percentage of broken water points in rank from highest to lowest is : \n",
            " Arigu          6.896552\n",
            "Nayoku         6.896552\n",
            "Tantala        6.896552\n",
            "Jagsa          6.896552\n",
            "Kpatarigu      5.747126\n",
            "Kubore         5.747126\n",
            "Namgurima      4.597701\n",
            "Nabulugu       4.597701\n",
            "Loagri_1_      4.597701\n",
            "Zanwara        4.597701\n",
            "Zukpeni        4.597701\n",
            "Zua            4.597701\n",
            "Kurugu         4.597701\n",
            "Banyangsa      3.448276\n",
            "Gbaarigu       3.448276\n",
            "Bandem         3.448276\n",
            "Longsa         2.298851\n",
            "Zangu-Vuga     2.298851\n",
            "Soo            2.298851\n",
            "Guuta          2.298851\n",
            "Chanpolinsa    1.149425\n",
            "Alavanyo       1.149425\n",
            "Zogsa          1.149425\n",
            "Gbima          1.149425\n",
            "Kulbugu        1.149425\n",
            "Kanwaasa       1.149425\n",
            "Dorinsa        1.149425\n",
            "Selinvoya      1.149425\n",
            "Name: communities_villages, dtype: float64\n"
          ]
        }
      ]
    },
    {
      "cell_type": "code",
      "metadata": {
        "id": "ReCKFXhxr3RK"
      },
      "source": [
        ""
      ],
      "execution_count": 26,
      "outputs": []
    },
    {
      "cell_type": "code",
      "metadata": {
        "id": "S7cE0qtoEEBV"
      },
      "source": [
        ""
      ],
      "execution_count": null,
      "outputs": []
    }
  ]
}