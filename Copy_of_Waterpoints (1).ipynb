{
  "nbformat": 4,
  "nbformat_minor": 0,
  "metadata": {
    "colab": {
      "name": "Copy of Waterpoints.ipynb",
      "provenance": [],
      "collapsed_sections": []
    },
    "kernelspec": {
      "display_name": "Python 3",
      "language": "python",
      "name": "python3"
    },
    "language_info": {
      "codemirror_mode": {
        "name": "ipython",
        "version": 3
      },
      "file_extension": ".py",
      "mimetype": "text/x-python",
      "name": "python",
      "nbconvert_exporter": "python",
      "pygments_lexer": "ipython3",
      "version": "3.8.5"
    }
  },
  "cells": [
    {
      "cell_type": "code",
      "metadata": {
        "id": "R6lo4NrpEnjj"
      },
      "source": [
        "# import libraries\n",
        "import urllib\n",
        "from urllib.request import urlopen\n",
        "import json\n",
        "import pandas as pd\n",
        "import numpy as np\n"
      ],
      "execution_count": 1,
      "outputs": []
    },
    {
      "cell_type": "code",
      "metadata": {
        "id": "iiyZaegN6ezz",
        "colab": {
          "base_uri": "https://localhost:8080/"
        },
        "outputId": "2e114e06-a0f1-4a51-ad04-39e265ebce13"
      },
      "source": [
        "# url input function\n",
        "# this is the url for simplicity : https://raw.githubusercontent.com/onaio/ona-tech/master/data/water_points.json\n",
        "url = input(\"Enter the data URL: \")\n",
        "print('Data URL =',url)\n",
        "\n",
        "# Storing the data\n",
        "response = urlopen(url)\n",
        "\n",
        "\n",
        "# storing the JSON response \n",
        "# from url in data\n",
        "data_json = json.loads(response.read())\n",
        "\n",
        "#create a pandas dataframe\n",
        "df = pd.DataFrame (data_json)\n",
        "df.head(5)\n",
        "df.shape\n",
        "#checking df information whether there are empty columns and also the datatypes available in the dataset\n",
        "\n",
        "\n"
      ],
      "execution_count": 25,
      "outputs": [
        {
          "output_type": "stream",
          "name": "stdout",
          "text": [
            "Enter the data URL: https://raw.githubusercontent.com/onaio/ona-tech/master/data/water_points.json\n",
            "Data URL = https://raw.githubusercontent.com/onaio/ona-tech/master/data/water_points.json\n"
          ]
        },
        {
          "output_type": "execute_result",
          "data": {
            "text/plain": [
              "(712, 48)"
            ]
          },
          "metadata": {},
          "execution_count": 25
        }
      ]
    },
    {
      "cell_type": "code",
      "metadata": {
        "id": "7P92RSgyQmqT",
        "colab": {
          "base_uri": "https://localhost:8080/"
        },
        "outputId": "80cd571e-02c8-4201-a74e-b00b1c6cb4e7"
      },
      "source": [
        "#selecting a subset from the dataframe (df) where we only need column 10, column 26\n",
        "relevant_columns = df[['communities_villages', 'water_functioning']]\n",
        "#create a new dataframe for the data subsets i.e only the relevant columns\n",
        "#now we are only going to work with this dataframe, we called it relevant_columnsDF\n",
        "relevant_columnsDf= pd.DataFrame (relevant_columns)\n",
        "#Converting the unordered categorical 'Water functioning' , \n",
        "#converted the (if functioning is 'yes' replaced it with '1' and if  functioning is 'no' replaced it with '0')\n",
        "#this is to further check for any data disparencies\n",
        "\n",
        "relevant_columnsDf.water_functioning =relevant_columnsDf.water_functioning.map({'yes':'1','no':'0'})\n",
        "\n",
        "print( 'we will be working with this two columns and hence created a dataset called  relevant_columns  if value is 1 then  its functioning \\n if the value is 0 then it is not functioning  \\n  \\n :', relevant_columnsDf )\n"
      ],
      "execution_count": 31,
      "outputs": [
        {
          "output_type": "stream",
          "name": "stdout",
          "text": [
            "we will be working with this two columns and hence created a dataset called  relevant_columns  if value is 1 then  its functioning \n",
            " if the value is 0 then it is not functioning  \n",
            "  \n",
            " :     communities_villages water_functioning\n",
            "0              Gumaryili                 1\n",
            "1              Selinvoya                 1\n",
            "2              Selinvoya                 1\n",
            "3              Selinvoya                 1\n",
            "4              Selinvoya                 1\n",
            "..                   ...               ...\n",
            "707                 Suik                 1\n",
            "708              Vundema                 1\n",
            "709              Vundema                 1\n",
            "710             Jiniensa                 1\n",
            "711                Jagsa                 1\n",
            "\n",
            "[712 rows x 2 columns]\n"
          ]
        }
      ]
    },
    {
      "cell_type": "code",
      "metadata": {
        "colab": {
          "base_uri": "https://localhost:8080/"
        },
        "id": "HUICnI7pQmqe",
        "outputId": "0fbc528e-2045-4185-8f8c-11ad2ac0196e"
      },
      "source": [
        "#checking if our water_functioning column has any empty or irrelevant /dirty data.\n",
        "#converting data to categorical helped us identify that there are two elements that are not of type 1 or 0 \n",
        "relevant_columnsDf['water_functioning' ].value_counts(dropna=False )\n"
      ],
      "execution_count": 27,
      "outputs": [
        {
          "output_type": "execute_result",
          "data": {
            "text/plain": [
              "1      623\n",
              "0       87\n",
              "NaN      2\n",
              "Name: water_functioning, dtype: int64"
            ]
          },
          "metadata": {},
          "execution_count": 27
        }
      ]
    },
    {
      "cell_type": "code",
      "metadata": {
        "id": "HV8tQHq-Qmqg"
      },
      "source": [
        "# if water functioning contains a value which is neither 'yes' nor 'no' it eliminates it.\n",
        "#we eliminated the NAN \n",
        "relevant_columnsDf.dropna(subset = [\"water_functioning\"], inplace=True)\n"
      ],
      "execution_count": null,
      "outputs": []
    },
    {
      "cell_type": "code",
      "metadata": {
        "colab": {
          "base_uri": "https://localhost:8080/"
        },
        "id": "e534_EKXp5Pk",
        "outputId": "1088af3b-fac5-4b49-e15e-37fd4251766c"
      },
      "source": [
        "#clean data\n",
        "relevant_columnsDf['water_functioning' ].value_counts(dropna=False )"
      ],
      "execution_count": null,
      "outputs": [
        {
          "output_type": "execute_result",
          "data": {
            "text/plain": [
              "1    623\n",
              "0     87\n",
              "Name: water_functioning, dtype: int64"
            ]
          },
          "metadata": {},
          "execution_count": 19
        }
      ]
    },
    {
      "cell_type": "code",
      "metadata": {
        "colab": {
          "base_uri": "https://localhost:8080/"
        },
        "id": "xRkpRAmVnpky",
        "outputId": "3f7e4ede-0500-4381-808c-df9f525c1602"
      },
      "source": [
        "#Each community village and it's total numbe of water points.\n",
        "relevant_columnsDf['communities_villages' ].value_counts(dropna=False )"
      ],
      "execution_count": 32,
      "outputs": [
        {
          "output_type": "execute_result",
          "data": {
            "text/plain": [
              "Kpatarigu    51\n",
              "Jagsa        38\n",
              "Nayoku       35\n",
              "Guuta        32\n",
              "Nabulugu     31\n",
              "             ..\n",
              "Gumaryili     1\n",
              "Garigu        1\n",
              "Kalaasa       1\n",
              "Suik          1\n",
              "Jiniensa      1\n",
              "Name: communities_villages, Length: 65, dtype: int64"
            ]
          },
          "metadata": {},
          "execution_count": 32
        }
      ]
    },
    {
      "cell_type": "code",
      "metadata": {
        "colab": {
          "base_uri": "https://localhost:8080/",
          "height": 351
        },
        "id": "rFtdWsQCQmqd",
        "outputId": "d2dfa12f-121d-4fd5-ebbc-24e74c027bb2"
      },
      "source": [
        "#visualize the waterpoints which are working and those which are not working.\n",
        "import seaborn as sns\n",
        "sns.countplot(relevant_columnsDf['water_functioning'])"
      ],
      "execution_count": 17,
      "outputs": [
        {
          "output_type": "stream",
          "name": "stderr",
          "text": [
            "/usr/local/lib/python3.7/dist-packages/seaborn/_decorators.py:43: FutureWarning: Pass the following variable as a keyword arg: x. From version 0.12, the only valid positional argument will be `data`, and passing other arguments without an explicit keyword will result in an error or misinterpretation.\n",
            "  FutureWarning\n"
          ]
        },
        {
          "output_type": "execute_result",
          "data": {
            "text/plain": [
              "<matplotlib.axes._subplots.AxesSubplot at 0x7f14889d7850>"
            ]
          },
          "metadata": {},
          "execution_count": 17
        },
        {
          "output_type": "display_data",
          "data": {
            "image/png": "[encoded data removed]",
            "text/plain": [
              "<Figure size 432x288 with 1 Axes>"
            ]
          },
          "metadata": {
            "needs_background": "light"
          }
        }
      ]
    },
    {
      "cell_type": "code",
      "metadata": {
        "id": "MEImlURBQmqi"
      },
      "source": [
        "#look at all the values in each column and get a count using (for val which loops through the entire dataframe)\n",
        "#the number of occurences per village whichmeans the number of water points per village either functional or unfunctional.\n",
        "#the number of either fuctioning or unfuctioning water points \n",
        "#for val in relevant_columnsDf:\n",
        "  #  print(relevant_columnsDf[val].value_counts())\n",
        "#print()"
      ],
      "execution_count": 33,
      "outputs": []
    },
    {
      "cell_type": "code",
      "metadata": {
        "colab": {
          "base_uri": "https://localhost:8080/"
        },
        "id": "9sleGTistqhn",
        "outputId": "4468e46b-d9eb-4f1e-9ec3-aff1c5e119bc"
      },
      "source": [
        "#the output of this cell could further help us deduce that there are 65 communities_villages\n",
        "CommunityNumberDf= relevant_columnsDf['communities_villages' ].value_counts(dropna=False )\n",
        "print('the number of villages are equal to \\n:', len(CommunityNumberDf) )\n",
        "\n",
        "#Checking for the total functioning and unfuctioning data points where 1 is yes and 0 is no\n",
        "#the output shows that there are 623 working points and 87 points which are not working.\n",
        "relevant_columnsDf['water_functioning' ].value_counts(dropna=False )\n",
        "workingWaterPointsDf= relevant_columnsDf.loc[relevant_columnsDf['water_functioning' ]=='1']\n",
        "print ('The number of working water points which are functioning  is \\n :' , len(workingWaterPointsDf))\n",
        "# selecting rows based on condition , this codes selects all rows with a value zero which represents \"no\" meaning not fuctional.\n",
        "#Then stores them in a NotFunctional dataframe.\n",
        "notFunctionalWaterPointsDf = relevant_columnsDf.loc[relevant_columnsDf['water_functioning'] == '0'] \n",
        "    \n",
        "print('\\nResult dataframe for water points that are not functioning :\\n', \n",
        " len(notFunctionalWaterPointsDf)     )\n",
        "percentagesDf= notFunctionalWaterPointsDf['communities_villages'].value_counts(normalize=True)*100\n",
        "print ('percentage of broken water points in rank from highest to lowest is : \\n' ,  percentagesDf)"
      ],
      "execution_count": 36,
      "outputs": [
        {
          "output_type": "stream",
          "name": "stdout",
          "text": [
            "the number of villages are equal to \n",
            ": 65\n",
            "The number of working water points which are functioning  is \n",
            " : 623\n",
            "\n",
            "Result dataframe for water points that are not functioning :\n",
            " 87\n",
            "percentage of broken water points in rank from highest to lowest is : \n",
            " Nayoku         6.896552\n",
            "Tantala        6.896552\n",
            "Arigu          6.896552\n",
            "Jagsa          6.896552\n",
            "Kpatarigu      5.747126\n",
            "Kubore         5.747126\n",
            "Zanwara        4.597701\n",
            "Zua            4.597701\n",
            "Zukpeni        4.597701\n",
            "Loagri_1_      4.597701\n",
            "Kurugu         4.597701\n",
            "Nabulugu       4.597701\n",
            "Namgurima      4.597701\n",
            "Gbaarigu       3.448276\n",
            "Bandem         3.448276\n",
            "Banyangsa      3.448276\n",
            "Zangu-Vuga     2.298851\n",
            "Longsa         2.298851\n",
            "Guuta          2.298851\n",
            "Soo            2.298851\n",
            "Selinvoya      1.149425\n",
            "Gbima          1.149425\n",
            "Alavanyo       1.149425\n",
            "Kulbugu        1.149425\n",
            "Dorinsa        1.149425\n",
            "Kanwaasa       1.149425\n",
            "Chanpolinsa    1.149425\n",
            "Zogsa          1.149425\n",
            "Name: communities_villages, dtype: float64\n"
          ]
        }
      ]
    },
    {
      "cell_type": "code",
      "metadata": {
        "id": "OHy_aR5pbxf-"
      },
      "source": [
        ""
      ],
      "execution_count": null,
      "outputs": []
    }
  ]
}